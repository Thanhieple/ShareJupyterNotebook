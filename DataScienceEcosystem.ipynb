{
 "cells": [
  {
   "cell_type": "markdown",
   "id": "f76199cc-0807-46ab-99f5-4431618ef670",
   "metadata": {},
   "source": [
    "# Data Science Tools and Ecosystem"
   ]
  },
  {
   "cell_type": "markdown",
   "id": "7699f091-c19e-476c-bbf5-0f5d824d6989",
   "metadata": {},
   "source": [
    "In this notebook, Data Science Tools and Ecosystem are summarized."
   ]
  },
  {
   "cell_type": "markdown",
   "id": "cc4b4726-cc6d-4a91-a443-46b45df8fffa",
   "metadata": {
    "tags": []
   },
   "source": [
    "**Objectives:**\n",
    "\n",
    "- List popular languages for Data Science\n",
    "- Commonly used libraries by Data Scientists\n",
    "- Three development environment open source tools used in data science\n",
    "- Examples of evaluating arithmetic expressions in Python"
   ]
  },
  {
   "cell_type": "markdown",
   "id": "fe7e9c92-e227-45ad-9393-a233a3745409",
   "metadata": {
    "tags": []
   },
   "source": [
    "## Author\n",
    "Thanh Hiep Le"
   ]
  },
  {
   "cell_type": "markdown",
   "id": "b6f935c9-6400-4890-9ba2-1600effafb0c",
   "metadata": {},
   "source": [
    "Some of the popular languages that Data Scientists use are:\n",
    "\n",
    "1. Python\n",
    "2. R\n",
    "3. SQL\n",
    "4. C/C++\n",
    "5. Java\n",
    "6. JavaScript\n",
    "7. Julia"
   ]
  },
  {
   "cell_type": "markdown",
   "id": "190cc33d-b166-42ae-994a-e3eccc7091fa",
   "metadata": {},
   "source": [
    "Some of the commonly used libraries used by Data Scientists include:\n",
    "\n",
    "1. NumPy\n",
    "2. SciPy\n",
    "3. Pandas\n",
    "4. Keras\n",
    "5. PyTorch\n",
    "6. TensorFlow\n",
    "7. Plotly"
   ]
  },
  {
   "cell_type": "markdown",
   "id": "c9d0466d-48f3-4d69-ab34-a136b6adf23d",
   "metadata": {},
   "source": [
    "| Data Science Tools |\n",
    "|--------------------|\n",
    "|Jupyter Notebooks|\n",
    "|R Studio's|\n",
    "|Google Colab|"
   ]
  },
  {
   "cell_type": "markdown",
   "id": "ae1df528-16a9-4152-9501-d20bceac312f",
   "metadata": {
    "tags": []
   },
   "source": [
    "### Below are a few examples of evaluating arithmetic expressions in Python"
   ]
  },
  {
   "cell_type": "code",
   "execution_count": 3,
   "id": "de7038c6-7fa8-4095-befb-3b2071ee497b",
   "metadata": {
    "tags": []
   },
   "outputs": [
    {
     "data": {
      "text/plain": [
       "17"
      ]
     },
     "execution_count": 3,
     "metadata": {},
     "output_type": "execute_result"
    }
   ],
   "source": [
    "# This a simple arithmetic expression to mutiply then add integers\n",
    "(3*4)+5"
   ]
  },
  {
   "cell_type": "code",
   "execution_count": 7,
   "id": "b669cf6f-5b56-462b-90e1-fba667b0303c",
   "metadata": {
    "tags": []
   },
   "outputs": [
    {
     "data": {
      "text/plain": [
       "3.3333333333333335"
      ]
     },
     "execution_count": 7,
     "metadata": {},
     "output_type": "execute_result"
    }
   ],
   "source": [
    "# This will convert 200 minutes to hours by dividing by 60\n",
    "200/60"
   ]
  }
 ],
 "metadata": {
  "kernelspec": {
   "display_name": "Python",
   "language": "python",
   "name": "conda-env-python-py"
  },
  "language_info": {
   "codemirror_mode": {
    "name": "ipython",
    "version": 3
   },
   "file_extension": ".py",
   "mimetype": "text/x-python",
   "name": "python",
   "nbconvert_exporter": "python",
   "pygments_lexer": "ipython3",
   "version": "3.7.12"
  }
 },
 "nbformat": 4,
 "nbformat_minor": 5
}
